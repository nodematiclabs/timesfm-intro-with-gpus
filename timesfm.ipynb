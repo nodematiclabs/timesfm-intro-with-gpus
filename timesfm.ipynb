{
 "cells": [
  {
   "cell_type": "markdown",
   "id": "c4772d0f-1f08-4519-94e0-abdb05d932db",
   "metadata": {},
   "source": [
    "# Hands-On with TimesFM"
   ]
  },
  {
   "cell_type": "code",
   "execution_count": null,
   "id": "a738a950-2a96-4d1f-b85e-51d64b6a2d7d",
   "metadata": {
    "tags": []
   },
   "outputs": [],
   "source": [
    "!pip -q install huggingface_hub[cli] utilsforecast praxis paxml jax[cuda12]==0.4.26 einshape"
   ]
  },
  {
   "cell_type": "code",
   "execution_count": null,
   "id": "a6ed816c-bec0-4ff0-a897-0e899720bb01",
   "metadata": {
    "tags": []
   },
   "outputs": [],
   "source": [
    "!pip install -q -e git+https://github.com/google-research/timesfm.git@master#egg=timesfm"
   ]
  },
  {
   "cell_type": "markdown",
   "id": "e70573a5-3e9a-4329-bc2d-fc85f55dc997",
   "metadata": {},
   "source": [
    "## Loading the TimesFM model"
   ]
  },
  {
   "cell_type": "code",
   "execution_count": null,
   "id": "103fcce6-f13e-4d03-99a2-3677cdeb3812",
   "metadata": {
    "tags": []
   },
   "outputs": [],
   "source": [
    "import timesfm"
   ]
  },
  {
   "cell_type": "code",
   "execution_count": null,
   "id": "d053c1fb-6760-4c53-b615-ad983a1c29ac",
   "metadata": {
    "tags": []
   },
   "outputs": [],
   "source": [
    "tfm = timesfm.TimesFm(\n",
    "    context_len=192,\n",
    "    horizon_len=96,\n",
    "    input_patch_len=32,\n",
    "    output_patch_len=128,\n",
    "    num_layers=20,\n",
    "    model_dims=1280,\n",
    "    backend=\"gpu\",\n",
    ")\n",
    "tfm.load_from_checkpoint(repo_id=\"google/timesfm-1.0-200m\")"
   ]
  },
  {
   "cell_type": "markdown",
   "id": "a19ae4b9-59b2-4d5f-b76b-242841a3d1e8",
   "metadata": {},
   "source": [
    "## Synthetic sales data"
   ]
  },
  {
   "cell_type": "code",
   "execution_count": null,
   "id": "75d97552-471a-4e44-9175-11ec590c08fe",
   "metadata": {
    "tags": []
   },
   "outputs": [],
   "source": [
    "import pandas as pd\n",
    "import numpy as np\n",
    "from datetime import datetime, timedelta"
   ]
  },
  {
   "cell_type": "code",
   "execution_count": null,
   "id": "2211ffb2-4aba-442a-b6c1-1cdf617dede4",
   "metadata": {
    "tags": []
   },
   "outputs": [],
   "source": [
    "start_date = datetime.now()\n",
    "num_days = 365"
   ]
  },
  {
   "cell_type": "code",
   "execution_count": null,
   "id": "fd804b49-3786-40ce-88e3-6bb82c06a480",
   "metadata": {
    "tags": []
   },
   "outputs": [],
   "source": [
    "dates = [start_date + timedelta(days=i) for i in range(num_days)]"
   ]
  },
  {
   "cell_type": "code",
   "execution_count": null,
   "id": "30c9e252-e5cc-4bf1-89fb-6f6af889df2b",
   "metadata": {
    "tags": []
   },
   "outputs": [],
   "source": [
    "sales = [100 + i * 10 + np.random.normal(0, 10) for i in range(num_days)]"
   ]
  },
  {
   "cell_type": "code",
   "execution_count": null,
   "id": "2802bd78-da39-4950-96c4-d823ed9af816",
   "metadata": {
    "tags": []
   },
   "outputs": [],
   "source": [
    "data = pd.DataFrame({\n",
    "    'ds': dates,\n",
    "    'sales': sales,\n",
    "    'unique_id': \"sales\"\n",
    "})"
   ]
  },
  {
   "cell_type": "markdown",
   "id": "d2af82f7-48cd-4d92-bbb2-3381fbb9cf68",
   "metadata": {},
   "source": [
    "## Forecasting"
   ]
  },
  {
   "cell_type": "code",
   "execution_count": null,
   "id": "2eb58e1c-3800-4c64-95df-d695e163478b",
   "metadata": {
    "tags": []
   },
   "outputs": [],
   "source": [
    "%%time\n",
    "forecast_df = tfm.forecast_on_df(\n",
    "    inputs=data,\n",
    "    freq=\"D\",\n",
    "    value_name=\"sales\",\n",
    "    num_jobs=-1,\n",
    ")"
   ]
  },
  {
   "cell_type": "code",
   "execution_count": null,
   "id": "210962af-4b0d-42c6-a3bd-a49d390ff948",
   "metadata": {
    "tags": []
   },
   "outputs": [],
   "source": [
    "data"
   ]
  },
  {
   "cell_type": "code",
   "execution_count": null,
   "id": "009a49c7-1cb9-41a6-90d9-32ed27e7c2da",
   "metadata": {
    "tags": []
   },
   "outputs": [],
   "source": [
    "forecast_df"
   ]
  }
 ],
 "metadata": {
  "environment": {
   "kernel": "conda-base-py",
   "name": "workbench-notebooks.m121",
   "type": "gcloud",
   "uri": "us-docker.pkg.dev/deeplearning-platform-release/gcr.io/workbench-notebooks:m121"
  },
  "kernelspec": {
   "display_name": "Python 3 (ipykernel) (Local) (Local)",
   "language": "python",
   "name": "conda-base-py"
  },
  "language_info": {
   "codemirror_mode": {
    "name": "ipython",
    "version": 3
   },
   "file_extension": ".py",
   "mimetype": "text/x-python",
   "name": "python",
   "nbconvert_exporter": "python",
   "pygments_lexer": "ipython3",
   "version": "3.10.14"
  }
 },
 "nbformat": 4,
 "nbformat_minor": 5
}
